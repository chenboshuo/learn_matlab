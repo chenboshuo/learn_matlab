{
 "cells": [
  {
   "cell_type": "markdown",
   "metadata": {},
   "source": [
    "# 数学相关命令"
   ]
  },
  {
   "cell_type": "markdown",
   "metadata": {},
   "source": [
    "## 求方程$2x^{5\\;\\;} -3x^3 -71x^2 -9x+13=0$的解"
   ]
  },
  {
   "cell_type": "code",
   "execution_count": 1,
   "metadata": {
    "ExecuteTime": {
     "end_time": "2021-03-03T03:20:43.379301Z",
     "start_time": "2021-03-03T03:18:51.914024Z"
    }
   },
   "outputs": [
    {
     "name": "stdout",
     "output_type": "stream",
     "text": [
      "\n",
      "ans =\n",
      "\n",
      "    '9.6.0.1072779 (R2019a)'\n",
      "\n",
      "\n",
      "x =\n",
      "\n",
      "  -3.4914 + 0.0000i\n",
      "   1.6863 + 2.6947i\n",
      "   1.6863 - 2.6947i\n",
      "   0.0594 + 0.4251i\n",
      "   0.0594 - 0.4251i\n",
      "\n"
     ]
    }
   ],
   "source": [
    "p = [2,0,-3,71,-9,13];\n",
    "x = roots(p)"
   ]
  },
  {
   "cell_type": "markdown",
   "metadata": {},
   "source": [
    "## 求解线形方程组\n",
    "\n",
    "$$\n",
    "\\begin{cases}2x_1 + 3x_2 - x_3 &= 2 \\\\\n",
    "8x_1 + 2x_2 + 3x_3 &= 4 \\\\\n",
    "45x_1 + 3x_2 + 9x_3 &= 23 \\\\ \n",
    "\\end{cases}\n",
    "$$"
   ]
  },
  {
   "cell_type": "code",
   "execution_count": 2,
   "metadata": {
    "ExecuteTime": {
     "end_time": "2021-03-03T03:20:43.761174Z",
     "start_time": "2021-03-03T03:20:43.390802Z"
    }
   },
   "outputs": [
    {
     "name": "stdout",
     "output_type": "stream",
     "text": [
      "\n",
      "x =\n",
      "\n",
      "    0.5531\n",
      "    0.2051\n",
      "   -0.2784\n",
      "\n"
     ]
    }
   ],
   "source": [
    "a = [2,3,-1;\n",
    "     8,2,3;\n",
    "     45,3,9];\n",
    "b = [2;4;23];\n",
    "x = inv(a)*b"
   ]
  },
  {
   "cell_type": "markdown",
   "metadata": {},
   "source": [
    "## 求定积分$\\int_0^1 x \\log(1+x) dx$"
   ]
  },
  {
   "cell_type": "code",
   "execution_count": 3,
   "metadata": {
    "ExecuteTime": {
     "end_time": "2021-03-03T03:20:45.343902Z",
     "start_time": "2021-03-03T03:20:43.766331Z"
    }
   },
   "outputs": [
    {
     "name": "stdout",
     "output_type": "stream",
     "text": [
      "\n",
      "f =\n",
      "\n",
      "  function_handle with value:\n",
      "\n",
      "    @(x)x.*log(1+x)\n",
      "\n",
      "\n",
      "ans =\n",
      "\n",
      "    0.2500\n",
      "\n"
     ]
    }
   ],
   "source": [
    "f = @(x)x.*log(1+x)\n",
    "integral(f,0,1)"
   ]
  },
  {
   "cell_type": "markdown",
   "metadata": {},
   "source": [
    "# 矩阵相关"
   ]
  },
  {
   "cell_type": "markdown",
   "metadata": {},
   "source": [
    "## 矩阵的拼接"
   ]
  },
  {
   "cell_type": "code",
   "execution_count": 4,
   "metadata": {
    "ExecuteTime": {
     "end_time": "2021-03-03T03:20:45.407516Z",
     "start_time": "2021-03-03T03:20:45.356155Z"
    }
   },
   "outputs": [
    {
     "name": "stdout",
     "output_type": "stream",
     "text": [
      "\n",
      "c =\n",
      "\n",
      "     1     2     3    -1    -2    -3\n",
      "     4     5     6    -4    -5    -6\n",
      "     7     8     9    -7    -8    -9\n",
      "    -1    -2    -3     1     2     3\n",
      "    -4    -5    -6     4     5     6\n",
      "    -7    -8    -9     7     8     9\n",
      "\n"
     ]
    }
   ],
   "source": [
    "a = [1,2,3;\n",
    "    4,5,6;\n",
    "    7,8,9];\n",
    "b = [\n",
    "    -1,-2,-3;\n",
    "    -4,-5,-6;\n",
    "    -7,-8,-9;\n",
    "];\n",
    "c = [\n",
    "    a,b;\n",
    "    b,a\n",
    "]"
   ]
  },
  {
   "cell_type": "markdown",
   "metadata": {},
   "source": [
    "## 冒号表达式与linspace"
   ]
  },
  {
   "cell_type": "code",
   "execution_count": 5,
   "metadata": {
    "ExecuteTime": {
     "end_time": "2021-03-03T03:20:45.448184Z",
     "start_time": "2021-03-03T03:20:45.419339Z"
    }
   },
   "outputs": [
    {
     "name": "stdout",
     "output_type": "stream",
     "text": [
      "\n",
      "ans =\n",
      "\n",
      "     1    11    21    31    41    51    61    71    81    91\n",
      "\n"
     ]
    }
   ],
   "source": [
    "1:10:100"
   ]
  },
  {
   "cell_type": "code",
   "execution_count": 6,
   "metadata": {
    "ExecuteTime": {
     "end_time": "2021-03-03T03:20:45.540238Z",
     "start_time": "2021-03-03T03:20:45.451040Z"
    }
   },
   "outputs": [
    {
     "name": "stdout",
     "output_type": "stream",
     "text": [
      "\n",
      "ans =\n",
      "\n",
      "     1    12    23    34    45    56    67    78    89   100\n",
      "\n"
     ]
    }
   ],
   "source": [
    "linspace(1,100,10) % 10个数，9个间隔，（100-1）/9 = 11"
   ]
  },
  {
   "cell_type": "markdown",
   "metadata": {},
   "source": [
    "以上的语句等价于"
   ]
  },
  {
   "cell_type": "code",
   "execution_count": 7,
   "metadata": {
    "ExecuteTime": {
     "end_time": "2021-03-03T03:20:45.560031Z",
     "start_time": "2021-03-03T03:20:45.545874Z"
    }
   },
   "outputs": [
    {
     "name": "stdout",
     "output_type": "stream",
     "text": [
      "\n",
      "ans =\n",
      "\n",
      "     1    12    23    34    45    56    67    78    89   100\n",
      "\n"
     ]
    }
   ],
   "source": [
    "1:11:100"
   ]
  },
  {
   "cell_type": "markdown",
   "metadata": {},
   "source": [
    "## 矩阵的引用"
   ]
  },
  {
   "cell_type": "code",
   "execution_count": 8,
   "metadata": {
    "ExecuteTime": {
     "end_time": "2021-03-03T03:20:56.456893Z",
     "start_time": "2021-03-03T03:20:56.442153Z"
    }
   },
   "outputs": [
    {
     "name": "stdout",
     "output_type": "stream",
     "text": [
      "\n",
      "a =\n",
      "\n",
      "     1     2     3\n",
      "     4     5     6\n",
      "     7     8     9\n",
      "\n"
     ]
    }
   ],
   "source": [
    "a"
   ]
  },
  {
   "cell_type": "code",
   "execution_count": 9,
   "metadata": {
    "ExecuteTime": {
     "end_time": "2021-03-03T03:21:01.804669Z",
     "start_time": "2021-03-03T03:21:01.769761Z"
    }
   },
   "outputs": [
    {
     "name": "stdout",
     "output_type": "stream",
     "text": [
      "\n",
      "a =\n",
      "\n",
      "     1     2     3\n",
      "     4     5     6\n",
      "     7   200     9\n",
      "\n"
     ]
    }
   ],
   "source": [
    "a(3,2) = 200;\n",
    "a"
   ]
  },
  {
   "cell_type": "markdown",
   "metadata": {},
   "source": [
    "matlab 按列存储,序号与下标一一对应,对于$m \\times n$的矩阵(i,j)的下标为$(j-1)m+i$"
   ]
  },
  {
   "cell_type": "code",
   "execution_count": 10,
   "metadata": {
    "ExecuteTime": {
     "end_time": "2021-03-03T03:21:18.227041Z",
     "start_time": "2021-03-03T03:21:18.208789Z"
    }
   },
   "outputs": [
    {
     "name": "stdout",
     "output_type": "stream",
     "text": [
      "\n",
      "ans =\n",
      "\n",
      "     2\n",
      "\n"
     ]
    }
   ],
   "source": [
    "a(4)"
   ]
  },
  {
   "cell_type": "markdown",
   "metadata": {},
   "source": [
    "## 子矩阵"
   ]
  },
  {
   "cell_type": "code",
   "execution_count": 11,
   "metadata": {
    "ExecuteTime": {
     "end_time": "2021-03-03T03:21:33.429107Z",
     "start_time": "2021-03-03T03:21:33.410530Z"
    }
   },
   "outputs": [
    {
     "name": "stdout",
     "output_type": "stream",
     "text": [
      "\n",
      "ans =\n",
      "\n",
      "     1\n",
      "     4\n",
      "     7\n",
      "\n"
     ]
    }
   ],
   "source": [
    "a(:,1)"
   ]
  },
  {
   "cell_type": "code",
   "execution_count": 12,
   "metadata": {
    "ExecuteTime": {
     "end_time": "2021-03-03T03:21:38.651263Z",
     "start_time": "2021-03-03T03:21:38.618959Z"
    }
   },
   "outputs": [
    {
     "name": "stdout",
     "output_type": "stream",
     "text": [
      "\n",
      "ans =\n",
      "\n",
      "     1\n",
      "     4\n",
      "\n"
     ]
    }
   ],
   "source": [
    "a(1:2,1)"
   ]
  },
  {
   "cell_type": "code",
   "execution_count": 13,
   "metadata": {
    "ExecuteTime": {
     "end_time": "2021-03-03T03:21:43.628729Z",
     "start_time": "2021-03-03T03:21:43.595103Z"
    },
    "scrolled": true
   },
   "outputs": [
    {
     "name": "stdout",
     "output_type": "stream",
     "text": [
      "\n",
      "ans =\n",
      "\n",
      "     1\n",
      "     4\n",
      "     7\n",
      "     2\n",
      "     5\n",
      "   200\n",
      "     3\n",
      "     6\n",
      "     9\n",
      "\n"
     ]
    }
   ],
   "source": [
    "a(:)"
   ]
  }
 ],
 "metadata": {
  "jupytext": {
   "formats": "ipynb,m:light"
  },
  "kernelspec": {
   "display_name": "Matlab",
   "language": "matlab",
   "name": "matlab"
  },
  "language_info": {
   "codemirror_mode": "octave",
   "file_extension": ".m",
   "help_links": [
    {
     "text": "MetaKernel Magics",
     "url": "https://metakernel.readthedocs.io/en/latest/source/README.html"
    }
   ],
   "mimetype": "text/x-octave",
   "name": "matlab",
   "version": "0.16.11"
  },
  "latex_envs": {
   "LaTeX_envs_menu_present": true,
   "autoclose": false,
   "autocomplete": true,
   "bibliofile": "biblio.bib",
   "cite_by": "apalike",
   "current_citInitial": 1,
   "eqLabelWithNumbers": true,
   "eqNumInitial": 1,
   "hotkeys": {
    "equation": "Ctrl-E",
    "itemize": "Ctrl-I"
   },
   "labels_anchors": false,
   "latex_user_defs": false,
   "report_style_numbering": false,
   "user_envs_cfg": false
  },
  "toc": {
   "base_numbering": 1,
   "nav_menu": {},
   "number_sections": true,
   "sideBar": true,
   "skip_h1_title": false,
   "title_cell": "Table of Contents",
   "title_sidebar": "Contents",
   "toc_cell": false,
   "toc_position": {},
   "toc_section_display": true,
   "toc_window_display": false
  },
  "varInspector": {
   "cols": {
    "lenName": 16,
    "lenType": 16,
    "lenVar": 40
   },
   "kernels_config": {
    "python": {
     "delete_cmd_postfix": "",
     "delete_cmd_prefix": "del ",
     "library": "var_list.py",
     "varRefreshCmd": "print(var_dic_list())"
    },
    "r": {
     "delete_cmd_postfix": ") ",
     "delete_cmd_prefix": "rm(",
     "library": "var_list.r",
     "varRefreshCmd": "cat(var_dic_list()) "
    }
   },
   "types_to_exclude": [
    "module",
    "function",
    "builtin_function_or_method",
    "instance",
    "_Feature"
   ],
   "window_display": false
  }
 },
 "nbformat": 4,
 "nbformat_minor": 2
}
