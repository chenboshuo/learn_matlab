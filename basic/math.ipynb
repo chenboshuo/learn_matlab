{
 "cells": [
  {
   "cell_type": "markdown",
   "metadata": {},
   "source": [
    "# 数学相关命令"
   ]
  },
  {
   "cell_type": "markdown",
   "metadata": {},
   "source": [
    "## 求方程$2x^{5\\;\\;} -3x^3 -71x^2 -9x+13=0$的解"
   ]
  },
  {
   "cell_type": "code",
   "execution_count": 1,
   "metadata": {
    "ExecuteTime": {
     "end_time": "2021-03-03T02:52:05.719180Z",
     "start_time": "2021-03-03T02:51:33.209903Z"
    }
   },
   "outputs": [
    {
     "name": "stdout",
     "output_type": "stream",
     "text": [
      "\n",
      "ans =\n",
      "\n",
      "    '9.6.0.1072779 (R2019a)'\n",
      "\n",
      "\n",
      "x =\n",
      "\n",
      "  -3.4914 + 0.0000i\n",
      "   1.6863 + 2.6947i\n",
      "   1.6863 - 2.6947i\n",
      "   0.0594 + 0.4251i\n",
      "   0.0594 - 0.4251i\n",
      "\n"
     ]
    }
   ],
   "source": [
    "p = [2,0,-3,71,-9,13];\n",
    "x = roots(p)"
   ]
  },
  {
   "cell_type": "markdown",
   "metadata": {},
   "source": [
    "## 求解线形方程组\n",
    "\n",
    "$$\n",
    "\\begin{cases}2x_1 + 3x_2 - x_3 &= 2 \\\\\n",
    "8x_1 + 2x_2 + 3x_3 &= 4 \\\\\n",
    "45x_1 + 3x_2 + 9x_3 &= 23 \\\\ \n",
    "\\end{cases}\n",
    "$$"
   ]
  },
  {
   "cell_type": "code",
   "execution_count": 2,
   "metadata": {
    "ExecuteTime": {
     "end_time": "2021-03-03T02:52:31.989870Z",
     "start_time": "2021-03-03T02:52:31.097214Z"
    }
   },
   "outputs": [
    {
     "name": "stdout",
     "output_type": "stream",
     "text": [
      "\n",
      "x =\n",
      "\n",
      "    0.5531\n",
      "    0.2051\n",
      "   -0.2784\n",
      "\n"
     ]
    }
   ],
   "source": [
    "a = [2,3,-1;\n",
    "     8,2,3;\n",
    "     45,3,9];\n",
    "b = [2;4;23];\n",
    "x = inv(a)*b"
   ]
  },
  {
   "cell_type": "markdown",
   "metadata": {},
   "source": [
    "## 求定积分$\\int_0^1 x \\log(1+x) dx$"
   ]
  },
  {
   "cell_type": "code",
   "execution_count": 3,
   "metadata": {
    "ExecuteTime": {
     "end_time": "2021-03-03T02:53:26.814495Z",
     "start_time": "2021-03-03T02:53:26.299340Z"
    }
   },
   "outputs": [
    {
     "name": "stdout",
     "output_type": "stream",
     "text": [
      "\n",
      "f =\n",
      "\n",
      "  function_handle with value:\n",
      "\n",
      "    @(x)x.*log(1+x)\n",
      "\n",
      "\n",
      "ans =\n",
      "\n",
      "    0.2500\n",
      "\n"
     ]
    }
   ],
   "source": [
    "f = @(x)x.*log(1+x)\n",
    "integral(f,0,1)"
   ]
  },
  {
   "cell_type": "code",
   "execution_count": null,
   "metadata": {},
   "outputs": [],
   "source": []
  }
 ],
 "metadata": {
  "jupytext": {
   "formats": "ipynb,m:light"
  },
  "kernelspec": {
   "display_name": "Matlab",
   "language": "matlab",
   "name": "matlab"
  },
  "language_info": {
   "codemirror_mode": "octave",
   "file_extension": ".m",
   "help_links": [
    {
     "text": "MetaKernel Magics",
     "url": "https://metakernel.readthedocs.io/en/latest/source/README.html"
    }
   ],
   "mimetype": "text/x-octave",
   "name": "matlab",
   "version": "0.16.11"
  },
  "latex_envs": {
   "LaTeX_envs_menu_present": true,
   "autoclose": false,
   "autocomplete": true,
   "bibliofile": "biblio.bib",
   "cite_by": "apalike",
   "current_citInitial": 1,
   "eqLabelWithNumbers": true,
   "eqNumInitial": 1,
   "hotkeys": {
    "equation": "Ctrl-E",
    "itemize": "Ctrl-I"
   },
   "labels_anchors": false,
   "latex_user_defs": false,
   "report_style_numbering": false,
   "user_envs_cfg": false
  },
  "toc": {
   "base_numbering": 1,
   "nav_menu": {},
   "number_sections": true,
   "sideBar": true,
   "skip_h1_title": false,
   "title_cell": "Table of Contents",
   "title_sidebar": "Contents",
   "toc_cell": false,
   "toc_position": {},
   "toc_section_display": true,
   "toc_window_display": false
  },
  "varInspector": {
   "cols": {
    "lenName": 16,
    "lenType": 16,
    "lenVar": 40
   },
   "kernels_config": {
    "python": {
     "delete_cmd_postfix": "",
     "delete_cmd_prefix": "del ",
     "library": "var_list.py",
     "varRefreshCmd": "print(var_dic_list())"
    },
    "r": {
     "delete_cmd_postfix": ") ",
     "delete_cmd_prefix": "rm(",
     "library": "var_list.r",
     "varRefreshCmd": "cat(var_dic_list()) "
    }
   },
   "types_to_exclude": [
    "module",
    "function",
    "builtin_function_or_method",
    "instance",
    "_Feature"
   ],
   "window_display": false
  }
 },
 "nbformat": 4,
 "nbformat_minor": 2
}
